{
 "cells": [
  {
   "cell_type": "code",
   "execution_count": 1,
   "metadata": {
    "collapsed": true
   },
   "outputs": [],
   "source": [
    "import pandas as pd\n",
    "import numpy as np"
   ]
  },
  {
   "cell_type": "code",
   "execution_count": 2,
   "metadata": {
    "collapsed": false
   },
   "outputs": [],
   "source": [
    "rng = pd.date_range('1/1/2011', periods = 72, freq = 'H')\n",
    "ts = pd.Series(list(range(len(rng))), index = rng)"
   ]
  },
  {
   "cell_type": "code",
   "execution_count": 3,
   "metadata": {
    "collapsed": false
   },
   "outputs": [
    {
     "data": {
      "text/plain": [
       "2011-01-01 00:00:00    0\n",
       "2011-01-01 01:00:00    1\n",
       "2011-01-01 02:00:00    2\n",
       "2011-01-01 03:00:00    3\n",
       "2011-01-01 04:00:00    4\n",
       "Freq: H, dtype: int64"
      ]
     },
     "execution_count": 3,
     "metadata": {},
     "output_type": "execute_result"
    }
   ],
   "source": [
    "ts.head()"
   ]
  },
  {
   "cell_type": "code",
   "execution_count": 4,
   "metadata": {
    "collapsed": true
   },
   "outputs": [],
   "source": [
    "converted = ts.asfreq('45Min', method = 'ffill')"
   ]
  },
  {
   "cell_type": "code",
   "execution_count": 5,
   "metadata": {
    "collapsed": false
   },
   "outputs": [
    {
     "data": {
      "text/plain": [
       "2011-01-01 00:00:00    0\n",
       "2011-01-01 00:45:00    0\n",
       "2011-01-01 01:30:00    1\n",
       "2011-01-01 02:15:00    2\n",
       "2011-01-01 03:00:00    3\n",
       "Freq: 45T, dtype: int64"
      ]
     },
     "execution_count": 5,
     "metadata": {},
     "output_type": "execute_result"
    }
   ],
   "source": [
    "converted.head()"
   ]
  },
  {
   "cell_type": "markdown",
   "metadata": {},
   "source": [
    "### What does the above code do to the size and content of your data frame?"
   ]
  },
  {
   "cell_type": "code",
   "execution_count": 6,
   "metadata": {
    "collapsed": false
   },
   "outputs": [
    {
     "data": {
      "text/plain": [
       "2011-01-01 00:45:00    0\n",
       "2011-01-01 01:30:00    1\n",
       "2011-01-01 02:15:00    2\n",
       "2011-01-01 03:00:00    3\n",
       "2011-01-01 03:45:00    3\n",
       "2011-01-01 04:30:00    4\n",
       "2011-01-01 05:15:00    5\n",
       "2011-01-01 06:00:00    6\n",
       "2011-01-01 06:45:00    6\n",
       "Freq: 45T, dtype: int64"
      ]
     },
     "execution_count": 6,
     "metadata": {},
     "output_type": "execute_result"
    }
   ],
   "source": [
    "converted[1:10]"
   ]
  },
  {
   "cell_type": "code",
   "execution_count": 7,
   "metadata": {
    "collapsed": false
   },
   "outputs": [
    {
     "data": {
      "text/plain": [
       "(72,)"
      ]
     },
     "execution_count": 7,
     "metadata": {},
     "output_type": "execute_result"
    }
   ],
   "source": [
    "ts.shape"
   ]
  },
  {
   "cell_type": "code",
   "execution_count": 8,
   "metadata": {
    "collapsed": false
   },
   "outputs": [
    {
     "data": {
      "text/plain": [
       "(95,)"
      ]
     },
     "execution_count": 8,
     "metadata": {},
     "output_type": "execute_result"
    }
   ],
   "source": [
    "converted.shape"
   ]
  },
  {
   "cell_type": "code",
   "execution_count": 9,
   "metadata": {
    "collapsed": false
   },
   "outputs": [
    {
     "data": {
      "text/plain": [
       "2011-01-01 01:00:00    1\n",
       "2011-01-01 02:00:00    2\n",
       "2011-01-01 03:00:00    3\n",
       "2011-01-01 04:00:00    4\n",
       "2011-01-01 05:00:00    5\n",
       "2011-01-01 06:00:00    6\n",
       "2011-01-01 07:00:00    7\n",
       "2011-01-01 08:00:00    8\n",
       "2011-01-01 09:00:00    9\n",
       "Freq: H, dtype: int64"
      ]
     },
     "execution_count": 9,
     "metadata": {},
     "output_type": "execute_result"
    }
   ],
   "source": [
    "ts[1:10]"
   ]
  },
  {
   "cell_type": "markdown",
   "metadata": {},
   "source": [
    "### Take a look at the specs for .asfreq(). What are your options for filling in missing data?"
   ]
  },
  {
   "cell_type": "code",
   "execution_count": null,
   "metadata": {
    "collapsed": true
   },
   "outputs": [],
   "source": [
    "#{‘backfill’/’bfill’, ‘pad’/’ffill’}\n",
    "#‘pad’ / ‘ffill’: propagate last valid observation forward to next valid\n",
    "#‘backfill’ / ‘bfill’: use NEXT valid observation to fill"
   ]
  },
  {
   "cell_type": "markdown",
   "metadata": {},
   "source": [
    "### How can you go to less frequent rather than more frequent?"
   ]
  },
  {
   "cell_type": "code",
   "execution_count": 10,
   "metadata": {
    "collapsed": true
   },
   "outputs": [],
   "source": [
    "converted = ts.asfreq('3H')"
   ]
  },
  {
   "cell_type": "code",
   "execution_count": 11,
   "metadata": {
    "collapsed": false
   },
   "outputs": [
    {
     "data": {
      "text/plain": [
       "2011-01-01 03:00:00     3\n",
       "2011-01-01 06:00:00     6\n",
       "2011-01-01 09:00:00     9\n",
       "2011-01-01 12:00:00    12\n",
       "2011-01-01 15:00:00    15\n",
       "2011-01-01 18:00:00    18\n",
       "2011-01-01 21:00:00    21\n",
       "2011-01-02 00:00:00    24\n",
       "2011-01-02 03:00:00    27\n",
       "Freq: 3H, dtype: int64"
      ]
     },
     "execution_count": 11,
     "metadata": {},
     "output_type": "execute_result"
    }
   ],
   "source": [
    "converted[1:10]"
   ]
  },
  {
   "cell_type": "code",
   "execution_count": 12,
   "metadata": {
    "collapsed": false
   },
   "outputs": [
    {
     "data": {
      "text/plain": [
       "2011-01-01 01:00:00    1\n",
       "2011-01-01 02:00:00    2\n",
       "2011-01-01 03:00:00    3\n",
       "2011-01-01 04:00:00    4\n",
       "2011-01-01 05:00:00    5\n",
       "2011-01-01 06:00:00    6\n",
       "2011-01-01 07:00:00    7\n",
       "2011-01-01 08:00:00    8\n",
       "2011-01-01 09:00:00    9\n",
       "Freq: H, dtype: int64"
      ]
     },
     "execution_count": 12,
     "metadata": {},
     "output_type": "execute_result"
    }
   ],
   "source": [
    "ts[1:10]"
   ]
  },
  {
   "cell_type": "code",
   "execution_count": 13,
   "metadata": {
    "collapsed": false
   },
   "outputs": [
    {
     "data": {
      "text/plain": [
       "2011-01-01 02:00:00     2.5\n",
       "2011-01-01 04:00:00     4.5\n",
       "2011-01-01 06:00:00     6.5\n",
       "2011-01-01 08:00:00     8.5\n",
       "2011-01-01 10:00:00    10.5\n",
       "2011-01-01 12:00:00    12.5\n",
       "2011-01-01 14:00:00    14.5\n",
       "2011-01-01 16:00:00    16.5\n",
       "2011-01-01 18:00:00    18.5\n",
       "Freq: 2H, dtype: float64"
      ]
     },
     "execution_count": 13,
     "metadata": {},
     "output_type": "execute_result"
    }
   ],
   "source": [
    "# Let's try the more flexible .resample()\n",
    "ts.resample('2H').mean()[1:10]"
   ]
  },
  {
   "cell_type": "code",
   "execution_count": 14,
   "metadata": {
    "collapsed": false
   },
   "outputs": [],
   "source": [
    "# What's particularly useful is that we can use reample to event out irregular time series\n",
    "irreg_ts = ts[list(np.random.choice(a = list(range(len(ts))), size = 10, replace = False))]"
   ]
  },
  {
   "cell_type": "code",
   "execution_count": 15,
   "metadata": {
    "collapsed": false
   },
   "outputs": [
    {
     "data": {
      "text/plain": [
       "2011-01-03 10:00:00    58\n",
       "2011-01-01 23:00:00    23\n",
       "2011-01-03 00:00:00    48\n",
       "2011-01-01 13:00:00    13\n",
       "2011-01-01 10:00:00    10\n",
       "2011-01-01 20:00:00    20\n",
       "2011-01-01 05:00:00     5\n",
       "2011-01-01 21:00:00    21\n",
       "2011-01-03 23:00:00    71\n",
       "2011-01-02 11:00:00    35\n",
       "dtype: int64"
      ]
     },
     "execution_count": 15,
     "metadata": {},
     "output_type": "execute_result"
    }
   ],
   "source": [
    "irreg_ts"
   ]
  },
  {
   "cell_type": "code",
   "execution_count": 16,
   "metadata": {
    "collapsed": false
   },
   "outputs": [
    {
     "data": {
      "text/plain": [
       "Series([], Freq: D, dtype: int64)"
      ]
     },
     "execution_count": 16,
     "metadata": {},
     "output_type": "execute_result"
    }
   ],
   "source": [
    "irreg_ts.asfreq('D')"
   ]
  },
  {
   "cell_type": "code",
   "execution_count": null,
   "metadata": {
    "collapsed": true
   },
   "outputs": [],
   "source": [
    "# not consecutive"
   ]
  },
  {
   "cell_type": "markdown",
   "metadata": {},
   "source": [
    "### Why didn't that work?"
   ]
  },
  {
   "cell_type": "code",
   "execution_count": 17,
   "metadata": {
    "collapsed": false
   },
   "outputs": [
    {
     "data": {
      "text/plain": [
       "2011-01-01 05:00:00     5\n",
       "2011-01-01 10:00:00    10\n",
       "2011-01-01 13:00:00    13\n",
       "2011-01-01 20:00:00    20\n",
       "2011-01-01 21:00:00    21\n",
       "2011-01-01 23:00:00    23\n",
       "2011-01-02 11:00:00    35\n",
       "2011-01-03 00:00:00    48\n",
       "2011-01-03 10:00:00    58\n",
       "2011-01-03 23:00:00    71\n",
       "dtype: int64"
      ]
     },
     "execution_count": 17,
     "metadata": {},
     "output_type": "execute_result"
    }
   ],
   "source": [
    "irreg_ts = irreg_ts.sort_index()\n",
    "irreg_ts"
   ]
  },
  {
   "cell_type": "code",
   "execution_count": 18,
   "metadata": {
    "collapsed": false
   },
   "outputs": [
    {
     "data": {
      "text/plain": [
       "2011-01-01 05:00:00    5.0\n",
       "2011-01-02 05:00:00    NaN\n",
       "2011-01-03 05:00:00    NaN\n",
       "Freq: D, dtype: float64"
      ]
     },
     "execution_count": 18,
     "metadata": {},
     "output_type": "execute_result"
    }
   ],
   "source": [
    "irreg_ts.asfreq('D')"
   ]
  },
  {
   "cell_type": "code",
   "execution_count": 19,
   "metadata": {
    "collapsed": false
   },
   "outputs": [
    {
     "data": {
      "text/plain": [
       "2011-01-01    6\n",
       "2011-01-02    1\n",
       "2011-01-03    3\n",
       "Freq: D, dtype: int64"
      ]
     },
     "execution_count": 19,
     "metadata": {},
     "output_type": "execute_result"
    }
   ],
   "source": [
    "irreg_ts.resample('D').count()"
   ]
  },
  {
   "cell_type": "markdown",
   "metadata": {},
   "source": [
    "# Try\n",
    "\n",
    "(1) What if you want to go to a higher frequency, but you don't want to back fill or forward fill? Why might you want to do that?\n",
    "\n",
    "(2) What is the difference between .ressample() and .asfreq()?\n",
    "\n",
    "(3) How can I forward-fill only a few days? (hint: .fillna())\n",
    "\n",
    "(4) What are some helpful functions to use with a Resampler object?"
   ]
  },
  {
   "cell_type": "code",
   "execution_count": 25,
   "metadata": {
    "collapsed": false
   },
   "outputs": [
    {
     "data": {
      "text/plain": [
       "2011-01-01 00:00:00     0.0\n",
       "2011-01-01 01:00:00     1.0\n",
       "2011-01-01 02:00:00     2.0\n",
       "2011-01-01 03:00:00     2.0\n",
       "2011-01-01 04:00:00     4.0\n",
       "2011-01-01 05:00:00     4.0\n",
       "2011-01-01 06:00:00     4.0\n",
       "2011-01-01 07:00:00     4.0\n",
       "2011-01-01 08:00:00     4.0\n",
       "2011-01-01 09:00:00     4.0\n",
       "2011-01-01 10:00:00     NaN\n",
       "2011-01-01 11:00:00     NaN\n",
       "2011-01-01 12:00:00     NaN\n",
       "2011-01-01 13:00:00     NaN\n",
       "2011-01-01 14:00:00    14.0\n",
       "2011-01-01 15:00:00    14.0\n",
       "2011-01-01 16:00:00    16.0\n",
       "2011-01-01 17:00:00    16.0\n",
       "2011-01-01 18:00:00    16.0\n",
       "2011-01-01 19:00:00    16.0\n",
       "2011-01-01 20:00:00    16.0\n",
       "2011-01-01 21:00:00    16.0\n",
       "2011-01-01 22:00:00     NaN\n",
       "2011-01-01 23:00:00     NaN\n",
       "2011-01-02 00:00:00     NaN\n",
       "2011-01-02 01:00:00     NaN\n",
       "2011-01-02 02:00:00     NaN\n",
       "2011-01-02 03:00:00     NaN\n",
       "2011-01-02 04:00:00     NaN\n",
       "2011-01-02 05:00:00    29.0\n",
       "2011-01-02 06:00:00    29.0\n",
       "2011-01-02 07:00:00    29.0\n",
       "2011-01-02 08:00:00    29.0\n",
       "2011-01-02 09:00:00    29.0\n",
       "2011-01-02 10:00:00    29.0\n",
       "2011-01-02 11:00:00     NaN\n",
       "2011-01-02 12:00:00     NaN\n",
       "2011-01-02 13:00:00     NaN\n",
       "2011-01-02 14:00:00     NaN\n",
       "2011-01-02 15:00:00    39.0\n",
       "2011-01-02 16:00:00    39.0\n",
       "2011-01-02 17:00:00    39.0\n",
       "2011-01-02 18:00:00    39.0\n",
       "2011-01-02 19:00:00    39.0\n",
       "2011-01-02 20:00:00    39.0\n",
       "2011-01-02 21:00:00     NaN\n",
       "2011-01-02 22:00:00     NaN\n",
       "2011-01-02 23:00:00     NaN\n",
       "2011-01-03 00:00:00     NaN\n",
       "2011-01-03 01:00:00     NaN\n",
       "2011-01-03 02:00:00     NaN\n",
       "2011-01-03 03:00:00     NaN\n",
       "2011-01-03 04:00:00    52.0\n",
       "2011-01-03 05:00:00    52.0\n",
       "2011-01-03 06:00:00    52.0\n",
       "2011-01-03 07:00:00    55.0\n",
       "Freq: H, dtype: float64"
      ]
     },
     "execution_count": 25,
     "metadata": {},
     "output_type": "execute_result"
    }
   ],
   "source": [
    "# 1. method=none, if you do not want to interpolate\n",
    "# 2. resample will produce an object that you can do more things with; asfreq is more limited\n",
    "irreg_ts = ts[list(np.random.choice(a = list(range(len(ts))), size = 10, replace = False))]\n",
    "irreg_ts = irreg_ts.sort_index()\n",
    "irreg_ts.resample('H').fillna(limit=5,method='ffill')"
   ]
  },
  {
   "cell_type": "code",
   "execution_count": 26,
   "metadata": {
    "collapsed": false
   },
   "outputs": [
    {
     "data": {
      "text/plain": [
       "2011-01-01 00:00:00     0.0\n",
       "2011-01-01 01:00:00     1.0\n",
       "2011-01-01 02:00:00     2.0\n",
       "2011-01-01 03:00:00     NaN\n",
       "2011-01-01 04:00:00     4.0\n",
       "2011-01-01 05:00:00     NaN\n",
       "2011-01-01 06:00:00     NaN\n",
       "2011-01-01 07:00:00     NaN\n",
       "2011-01-01 08:00:00     NaN\n",
       "2011-01-01 09:00:00     NaN\n",
       "2011-01-01 10:00:00     NaN\n",
       "2011-01-01 11:00:00     NaN\n",
       "2011-01-01 12:00:00     NaN\n",
       "2011-01-01 13:00:00     NaN\n",
       "2011-01-01 14:00:00    14.0\n",
       "2011-01-01 15:00:00     NaN\n",
       "2011-01-01 16:00:00    16.0\n",
       "2011-01-01 17:00:00     NaN\n",
       "2011-01-01 18:00:00     NaN\n",
       "2011-01-01 19:00:00     NaN\n",
       "2011-01-01 20:00:00     NaN\n",
       "2011-01-01 21:00:00     NaN\n",
       "2011-01-01 22:00:00     NaN\n",
       "2011-01-01 23:00:00     NaN\n",
       "2011-01-02 00:00:00     NaN\n",
       "2011-01-02 01:00:00     NaN\n",
       "2011-01-02 02:00:00     NaN\n",
       "2011-01-02 03:00:00     NaN\n",
       "2011-01-02 04:00:00     NaN\n",
       "2011-01-02 05:00:00    29.0\n",
       "2011-01-02 06:00:00     NaN\n",
       "2011-01-02 07:00:00     NaN\n",
       "2011-01-02 08:00:00     NaN\n",
       "2011-01-02 09:00:00     NaN\n",
       "2011-01-02 10:00:00     NaN\n",
       "2011-01-02 11:00:00     NaN\n",
       "2011-01-02 12:00:00     NaN\n",
       "2011-01-02 13:00:00     NaN\n",
       "2011-01-02 14:00:00     NaN\n",
       "2011-01-02 15:00:00    39.0\n",
       "2011-01-02 16:00:00     NaN\n",
       "2011-01-02 17:00:00     NaN\n",
       "2011-01-02 18:00:00     NaN\n",
       "2011-01-02 19:00:00     NaN\n",
       "2011-01-02 20:00:00     NaN\n",
       "2011-01-02 21:00:00     NaN\n",
       "2011-01-02 22:00:00     NaN\n",
       "2011-01-02 23:00:00     NaN\n",
       "2011-01-03 00:00:00     NaN\n",
       "2011-01-03 01:00:00     NaN\n",
       "2011-01-03 02:00:00     NaN\n",
       "2011-01-03 03:00:00     NaN\n",
       "2011-01-03 04:00:00    52.0\n",
       "2011-01-03 05:00:00     NaN\n",
       "2011-01-03 06:00:00     NaN\n",
       "2011-01-03 07:00:00    55.0\n",
       "Freq: H, dtype: float64"
      ]
     },
     "execution_count": 26,
     "metadata": {},
     "output_type": "execute_result"
    }
   ],
   "source": [
    "irreg_ts.resample('H').mean()"
   ]
  },
  {
   "cell_type": "code",
   "execution_count": 27,
   "metadata": {
    "collapsed": false
   },
   "outputs": [
    {
     "data": {
      "text/plain": [
       "2011-01-01 00:00:00    1\n",
       "2011-01-01 01:00:00    1\n",
       "2011-01-01 02:00:00    1\n",
       "2011-01-01 03:00:00    0\n",
       "2011-01-01 04:00:00    1\n",
       "2011-01-01 05:00:00    0\n",
       "2011-01-01 06:00:00    0\n",
       "2011-01-01 07:00:00    0\n",
       "2011-01-01 08:00:00    0\n",
       "2011-01-01 09:00:00    0\n",
       "2011-01-01 10:00:00    0\n",
       "2011-01-01 11:00:00    0\n",
       "2011-01-01 12:00:00    0\n",
       "2011-01-01 13:00:00    0\n",
       "2011-01-01 14:00:00    1\n",
       "2011-01-01 15:00:00    0\n",
       "2011-01-01 16:00:00    1\n",
       "2011-01-01 17:00:00    0\n",
       "2011-01-01 18:00:00    0\n",
       "2011-01-01 19:00:00    0\n",
       "2011-01-01 20:00:00    0\n",
       "2011-01-01 21:00:00    0\n",
       "2011-01-01 22:00:00    0\n",
       "2011-01-01 23:00:00    0\n",
       "2011-01-02 00:00:00    0\n",
       "2011-01-02 01:00:00    0\n",
       "2011-01-02 02:00:00    0\n",
       "2011-01-02 03:00:00    0\n",
       "2011-01-02 04:00:00    0\n",
       "2011-01-02 05:00:00    1\n",
       "2011-01-02 06:00:00    0\n",
       "2011-01-02 07:00:00    0\n",
       "2011-01-02 08:00:00    0\n",
       "2011-01-02 09:00:00    0\n",
       "2011-01-02 10:00:00    0\n",
       "2011-01-02 11:00:00    0\n",
       "2011-01-02 12:00:00    0\n",
       "2011-01-02 13:00:00    0\n",
       "2011-01-02 14:00:00    0\n",
       "2011-01-02 15:00:00    1\n",
       "2011-01-02 16:00:00    0\n",
       "2011-01-02 17:00:00    0\n",
       "2011-01-02 18:00:00    0\n",
       "2011-01-02 19:00:00    0\n",
       "2011-01-02 20:00:00    0\n",
       "2011-01-02 21:00:00    0\n",
       "2011-01-02 22:00:00    0\n",
       "2011-01-02 23:00:00    0\n",
       "2011-01-03 00:00:00    0\n",
       "2011-01-03 01:00:00    0\n",
       "2011-01-03 02:00:00    0\n",
       "2011-01-03 03:00:00    0\n",
       "2011-01-03 04:00:00    1\n",
       "2011-01-03 05:00:00    0\n",
       "2011-01-03 06:00:00    0\n",
       "2011-01-03 07:00:00    1\n",
       "Freq: H, dtype: int64"
      ]
     },
     "execution_count": 27,
     "metadata": {},
     "output_type": "execute_result"
    }
   ],
   "source": [
    "irreg_ts.resample('H').count()"
   ]
  },
  {
   "cell_type": "code",
   "execution_count": null,
   "metadata": {
    "collapsed": true
   },
   "outputs": [],
   "source": []
  }
 ],
 "metadata": {
  "kernelspec": {
   "display_name": "Python 3",
   "language": "python",
   "name": "python3"
  },
  "language_info": {
   "codemirror_mode": {
    "name": "ipython",
    "version": 3
   },
   "file_extension": ".py",
   "mimetype": "text/x-python",
   "name": "python",
   "nbconvert_exporter": "python",
   "pygments_lexer": "ipython3",
   "version": "3.6.0"
  }
 },
 "nbformat": 4,
 "nbformat_minor": 0
}

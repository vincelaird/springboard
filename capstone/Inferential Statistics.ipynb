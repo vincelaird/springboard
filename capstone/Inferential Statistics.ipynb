{
 "cells": [
  {
   "cell_type": "code",
   "execution_count": 1,
   "metadata": {
    "collapsed": true
   },
   "outputs": [],
   "source": [
    "# first nine commands from data wrangling project, steps were the same\n",
    "import pandas as pd\n",
    "import numpy as np\n",
    "from scipy import stats, integrate\n",
    "import matplotlib.pyplot as plt\n",
    "import seaborn as sns\n",
    "%matplotlib inline\n",
    "import json\n",
    "from pandas.io.json import json_normalize"
   ]
  },
  {
   "cell_type": "code",
   "execution_count": 2,
   "metadata": {
    "collapsed": true
   },
   "outputs": [],
   "source": [
    "# First data set is contained in one .csv file\n",
    "df = pd.read_csv('data/mlb-4.1.2016-4.30.2016-2.csv', encoding='utf-8', header=None)"
   ]
  },
  {
   "cell_type": "code",
   "execution_count": 3,
   "metadata": {
    "collapsed": true
   },
   "outputs": [],
   "source": [
    "# eliminate header rows\n",
    "df = df[2:]"
   ]
  },
  {
   "cell_type": "code",
   "execution_count": 4,
   "metadata": {
    "collapsed": true
   },
   "outputs": [],
   "source": [
    "# rename heading columns\n",
    "heading_row = ['date', 'time','ml-fav', 'ml-dog','rl-fav', 'rl-dog','total-over', 'total-under',\n",
    "               '1st-half-fav', '1st-half-dog','2nd-half-fav', '2nd-half-dog','filename']\n",
    "df.columns = heading_row"
   ]
  },
  {
   "cell_type": "code",
   "execution_count": 5,
   "metadata": {
    "collapsed": true
   },
   "outputs": [],
   "source": [
    "# reset index\n",
    "df = df.reset_index(drop=True)"
   ]
  },
  {
   "cell_type": "code",
   "execution_count": 6,
   "metadata": {
    "collapsed": true
   },
   "outputs": [],
   "source": [
    "# after determining the number of odds changes, we may want to determine when they generally occur\n",
    "# columns were added to the dataframe to help with this determination\n",
    "df['date-time'] = pd.to_datetime(df['date'] + ' ' + df['time'], format='%d-%b %I:%M%p')\n",
    "# adding 42,369 days to each date was necessary, as the original .csv file did not contain the year\n",
    "df['date-time'] = df['date-time'] + pd.to_timedelta(42369,unit='d')"
   ]
  },
  {
   "cell_type": "code",
   "execution_count": 7,
   "metadata": {
    "collapsed": true
   },
   "outputs": [],
   "source": [
    "# opening and closing time for odds added to each row\n",
    "df['opening-time'] = df['date-time'].groupby(df['filename']).transform('min')\n",
    "df['closing-time'] = df['date-time'].groupby(df['filename']).transform('max')\n",
    "df['open-close-dif'] = df['closing-time'] - df['opening-time']"
   ]
  },
  {
   "cell_type": "code",
   "execution_count": 8,
   "metadata": {
    "collapsed": true
   },
   "outputs": [],
   "source": [
    "# this adds a percentage time to each row of how close to the beginning of the contest the given row occurred\n",
    "df['percent-time-to-close'] = (1 - ((df['closing-time'] - df['date-time']) / df['open-close-dif']))"
   ]
  },
  {
   "cell_type": "code",
   "execution_count": 9,
   "metadata": {
    "collapsed": true
   },
   "outputs": [],
   "source": [
    "# date literal time columns show the amount of time in days and in float value where 1 day = 1\n",
    "df['date-literal-time-to-close'] = df['open-close-dif'] * (1 - df['percent-time-to-close'])\n",
    "df['date-literal-time-to-close-float'] = df['date-literal-time-to-close'] / np.timedelta64(1,'D')"
   ]
  },
  {
   "cell_type": "code",
   "execution_count": 10,
   "metadata": {
    "collapsed": false
   },
   "outputs": [],
   "source": [
    "# create new df with open/close line only\n",
    "dfmm = df.groupby('filename')\n",
    "dfmin = dfmm.first()\n",
    "dfmax = dfmm.last()\n",
    "dfnew = pd.concat([dfmin, dfmax], axis=1)"
   ]
  },
  {
   "cell_type": "code",
   "execution_count": 11,
   "metadata": {
    "collapsed": true
   },
   "outputs": [],
   "source": [
    "# reset column headings, though many could be removed, we won't bother at this point\n",
    "heading_row = ['date-open','time-open','ml-fav-open','ml-dog-open','rl-fav-open','rl-dog-open',\n",
    "               'total-over-open','total-under-open','1st-half-fav-open','1st-half-dog-open',\n",
    "               '2nd-half-fav-open', '2nd-half-dog-open','date-time-open','opening-time-open',\n",
    "              'closing-time-open','open-close-dif-open','percent-time-to-close-open','date-literal-time-to-close-open',\n",
    "              'date-literal-time-to-close-float-open',\n",
    "              'date-close','time-close','ml-fav-close','ml-dog-close','rl-fav-close','rl-dog-close',\n",
    "               'total-over-close','total-under-close','1st-half-fav-close','1st-half-dog-close',\n",
    "               '2nd-half-fav-close', '2nd-half-dog-close','date-time-close','opening-time-close',\n",
    "              'closing-time-close','open-close-dif-close','percent-time-to-close-close','date-literal-time-to-close-close',\n",
    "              'date-literal-time-to-close-float-close']\n",
    "dfnew.columns = heading_row"
   ]
  },
  {
   "cell_type": "code",
   "execution_count": 12,
   "metadata": {
    "collapsed": false
   },
   "outputs": [
    {
     "data": {
      "text/plain": [
       "338"
      ]
     },
     "execution_count": 12,
     "metadata": {},
     "output_type": "execute_result"
    }
   ],
   "source": [
    "# total number of games, ignoring games where the odds don't change from opening to closing\n",
    "dfnew['fav-odds-same'] = (dfnew['ml-fav-open'] == dfnew['ml-fav-close'])\n",
    "dfnew = dfnew[dfnew['fav-odds-same'] == False]\n",
    "dfnew['date-open'].count()"
   ]
  },
  {
   "cell_type": "code",
   "execution_count": 13,
   "metadata": {
    "collapsed": false
   },
   "outputs": [
    {
     "data": {
      "text/plain": [
       "43"
      ]
     },
     "execution_count": 13,
     "metadata": {},
     "output_type": "execute_result"
    }
   ],
   "source": [
    "# this column shows number of times the fav changed from open to close, indicating the dog became a worse bet\n",
    "dfnew['fav-change'] = (dfnew['ml-fav-open'].str[:3] != dfnew['ml-fav-close'].str[:3])\n",
    "dfnew['fav-change'].sum()"
   ]
  },
  {
   "cell_type": "code",
   "execution_count": 17,
   "metadata": {
    "collapsed": false
   },
   "outputs": [
    {
     "data": {
      "text/plain": [
       "151"
      ]
     },
     "execution_count": 17,
     "metadata": {},
     "output_type": "execute_result"
    }
   ],
   "source": [
    "# this column shows number of times the odds got worse for the favorite - i.e. the number became more negative\n",
    "dfnew['fav-odds-worse'] = (pd.to_numeric(dfnew['ml-fav-open'].str[3:]) > pd.to_numeric(dfnew['ml-fav-close'].str[3:]))\n",
    "# sum only when the fav-change is false\n",
    "dfnew['fav-odds-worse'][dfnew['fav-change'] == False].sum()"
   ]
  },
  {
   "cell_type": "code",
   "execution_count": 18,
   "metadata": {
    "collapsed": false
   },
   "outputs": [
    {
     "data": {
      "text/plain": [
       "9.192388155425117"
      ]
     },
     "execution_count": 18,
     "metadata": {},
     "output_type": "execute_result"
    }
   ],
   "source": [
    "# so out of 338 games, 151 times the favorite got worse odds, and 187 times the dog got worse odds\n",
    "# what are the chances this was just coincidence?  determine s\n",
    "(338 * 0.5 * 0.5) ** 0.5"
   ]
  },
  {
   "cell_type": "code",
   "execution_count": 19,
   "metadata": {
    "collapsed": false
   },
   "outputs": [
    {
     "data": {
      "text/plain": [
       "1.9581418555935164"
      ]
     },
     "execution_count": 19,
     "metadata": {},
     "output_type": "execute_result"
    }
   ],
   "source": [
    "# our expected value, if fav/dog doesn't matter: 338 / 2 = 169 (we got 187, 18 more)\n",
    "18 / 9.192388155425117"
   ]
  },
  {
   "cell_type": "code",
   "execution_count": 20,
   "metadata": {
    "collapsed": true
   },
   "outputs": [],
   "source": [
    "# checking a distribution table shows the chances of this happening is 2.5% - is this significant?  Possibly."
   ]
  },
  {
   "cell_type": "code",
   "execution_count": null,
   "metadata": {
    "collapsed": true
   },
   "outputs": [],
   "source": []
  }
 ],
 "metadata": {
  "kernelspec": {
   "display_name": "Python 3",
   "language": "python",
   "name": "python3"
  },
  "language_info": {
   "codemirror_mode": {
    "name": "ipython",
    "version": 3
   },
   "file_extension": ".py",
   "mimetype": "text/x-python",
   "name": "python",
   "nbconvert_exporter": "python",
   "pygments_lexer": "ipython3",
   "version": "3.6.0"
  }
 },
 "nbformat": 4,
 "nbformat_minor": 2
}

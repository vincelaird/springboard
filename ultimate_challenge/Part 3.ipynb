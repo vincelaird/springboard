{
 "cells": [
  {
   "cell_type": "code",
   "execution_count": 2,
   "metadata": {},
   "outputs": [],
   "source": [
    "import pandas as pd\n",
    "import numpy as np\n",
    "import matplotlib.pyplot as plt\n",
    "import json\n",
    "from sklearn.model_selection import train_test_split\n",
    "from sklearn.metrics import mean_squared_error\n",
    "import xgboost as xgb\n",
    "from xgboost import plot_importance\n",
    "from sklearn.neural_network import MLPClassifier\n",
    "from sklearn.neighbors import KNeighborsClassifier\n",
    "from sklearn.svm import SVC\n",
    "from sklearn.tree import DecisionTreeClassifier\n",
    "from sklearn.ensemble import RandomForestClassifier, AdaBoostClassifier\n",
    "from sklearn.naive_bayes import GaussianNB\n",
    "from sklearn.discriminant_analysis import QuadraticDiscriminantAnalysis\n",
    "from sklearn.metrics import f1_score\n",
    "%matplotlib inline"
   ]
  },
  {
   "cell_type": "code",
   "execution_count": 4,
   "metadata": {},
   "outputs": [
    {
     "data": {
      "text/html": [
       "<div>\n",
       "<style>\n",
       "    .dataframe thead tr:only-child th {\n",
       "        text-align: right;\n",
       "    }\n",
       "\n",
       "    .dataframe thead th {\n",
       "        text-align: left;\n",
       "    }\n",
       "\n",
       "    .dataframe tbody tr th {\n",
       "        vertical-align: top;\n",
       "    }\n",
       "</style>\n",
       "<table border=\"1\" class=\"dataframe\">\n",
       "  <thead>\n",
       "    <tr style=\"text-align: right;\">\n",
       "      <th></th>\n",
       "      <th>avg_dist</th>\n",
       "      <th>avg_rating_by_driver</th>\n",
       "      <th>avg_rating_of_driver</th>\n",
       "      <th>avg_surge</th>\n",
       "      <th>city</th>\n",
       "      <th>last_trip_date</th>\n",
       "      <th>phone</th>\n",
       "      <th>signup_date</th>\n",
       "      <th>surge_pct</th>\n",
       "      <th>trips_in_first_30_days</th>\n",
       "      <th>ultimate_black_user</th>\n",
       "      <th>weekday_pct</th>\n",
       "    </tr>\n",
       "  </thead>\n",
       "  <tbody>\n",
       "    <tr>\n",
       "      <th>0</th>\n",
       "      <td>3.67</td>\n",
       "      <td>5.0</td>\n",
       "      <td>4.7</td>\n",
       "      <td>1.10</td>\n",
       "      <td>King's Landing</td>\n",
       "      <td>2014-06-17</td>\n",
       "      <td>iPhone</td>\n",
       "      <td>2014-01-25</td>\n",
       "      <td>15.4</td>\n",
       "      <td>4</td>\n",
       "      <td>True</td>\n",
       "      <td>46.2</td>\n",
       "    </tr>\n",
       "    <tr>\n",
       "      <th>1</th>\n",
       "      <td>8.26</td>\n",
       "      <td>5.0</td>\n",
       "      <td>5.0</td>\n",
       "      <td>1.00</td>\n",
       "      <td>Astapor</td>\n",
       "      <td>2014-05-05</td>\n",
       "      <td>Android</td>\n",
       "      <td>2014-01-29</td>\n",
       "      <td>0.0</td>\n",
       "      <td>0</td>\n",
       "      <td>False</td>\n",
       "      <td>50.0</td>\n",
       "    </tr>\n",
       "    <tr>\n",
       "      <th>2</th>\n",
       "      <td>0.77</td>\n",
       "      <td>5.0</td>\n",
       "      <td>4.3</td>\n",
       "      <td>1.00</td>\n",
       "      <td>Astapor</td>\n",
       "      <td>2014-01-07</td>\n",
       "      <td>iPhone</td>\n",
       "      <td>2014-01-06</td>\n",
       "      <td>0.0</td>\n",
       "      <td>3</td>\n",
       "      <td>False</td>\n",
       "      <td>100.0</td>\n",
       "    </tr>\n",
       "    <tr>\n",
       "      <th>3</th>\n",
       "      <td>2.36</td>\n",
       "      <td>4.9</td>\n",
       "      <td>4.6</td>\n",
       "      <td>1.14</td>\n",
       "      <td>King's Landing</td>\n",
       "      <td>2014-06-29</td>\n",
       "      <td>iPhone</td>\n",
       "      <td>2014-01-10</td>\n",
       "      <td>20.0</td>\n",
       "      <td>9</td>\n",
       "      <td>True</td>\n",
       "      <td>80.0</td>\n",
       "    </tr>\n",
       "    <tr>\n",
       "      <th>4</th>\n",
       "      <td>3.13</td>\n",
       "      <td>4.9</td>\n",
       "      <td>4.4</td>\n",
       "      <td>1.19</td>\n",
       "      <td>Winterfell</td>\n",
       "      <td>2014-03-15</td>\n",
       "      <td>Android</td>\n",
       "      <td>2014-01-27</td>\n",
       "      <td>11.8</td>\n",
       "      <td>14</td>\n",
       "      <td>False</td>\n",
       "      <td>82.4</td>\n",
       "    </tr>\n",
       "  </tbody>\n",
       "</table>\n",
       "</div>"
      ],
      "text/plain": [
       "   avg_dist  avg_rating_by_driver  avg_rating_of_driver  avg_surge  \\\n",
       "0      3.67                   5.0                   4.7       1.10   \n",
       "1      8.26                   5.0                   5.0       1.00   \n",
       "2      0.77                   5.0                   4.3       1.00   \n",
       "3      2.36                   4.9                   4.6       1.14   \n",
       "4      3.13                   4.9                   4.4       1.19   \n",
       "\n",
       "             city last_trip_date    phone signup_date  surge_pct  \\\n",
       "0  King's Landing     2014-06-17   iPhone  2014-01-25       15.4   \n",
       "1         Astapor     2014-05-05  Android  2014-01-29        0.0   \n",
       "2         Astapor     2014-01-07   iPhone  2014-01-06        0.0   \n",
       "3  King's Landing     2014-06-29   iPhone  2014-01-10       20.0   \n",
       "4      Winterfell     2014-03-15  Android  2014-01-27       11.8   \n",
       "\n",
       "   trips_in_first_30_days  ultimate_black_user  weekday_pct  \n",
       "0                       4                 True         46.2  \n",
       "1                       0                False         50.0  \n",
       "2                       3                False        100.0  \n",
       "3                       9                 True         80.0  \n",
       "4                      14                False         82.4  "
      ]
     },
     "execution_count": 4,
     "metadata": {},
     "output_type": "execute_result"
    }
   ],
   "source": [
    "with open('ultimate_data_challenge.json') as f:\n",
    "   data = json.load(f)\n",
    "df = pd.DataFrame(data)\n",
    "df.head()"
   ]
  },
  {
   "cell_type": "code",
   "execution_count": 4,
   "metadata": {},
   "outputs": [
    {
     "data": {
      "text/plain": [
       "'2014-01-01'"
      ]
     },
     "execution_count": 4,
     "metadata": {},
     "output_type": "execute_result"
    }
   ],
   "source": [
    "# determine min and max of last trip date and set date range to 30 days prior to max\n",
    "df.last_trip_date.min()"
   ]
  },
  {
   "cell_type": "code",
   "execution_count": 5,
   "metadata": {},
   "outputs": [
    {
     "data": {
      "text/plain": [
       "'2014-07-01'"
      ]
     },
     "execution_count": 5,
     "metadata": {},
     "output_type": "execute_result"
    }
   ],
   "source": [
    "df.last_trip_date.max()"
   ]
  },
  {
   "cell_type": "code",
   "execution_count": 5,
   "metadata": {},
   "outputs": [
    {
     "data": {
      "text/plain": [
       "0.37608"
      ]
     },
     "execution_count": 5,
     "metadata": {},
     "output_type": "execute_result"
    }
   ],
   "source": [
    "df['retained'] = 0\n",
    "df.retained = np.where(df.last_trip_date >= '2014-06-01', 1, 0)\n",
    "\n",
    "# percent retained\n",
    "df.retained.mean()"
   ]
  },
  {
   "cell_type": "code",
   "execution_count": 6,
   "metadata": {},
   "outputs": [
    {
     "data": {
      "text/plain": [
       "array([\"King's Landing\", 'Astapor', 'Winterfell'], dtype=object)"
      ]
     },
     "execution_count": 6,
     "metadata": {},
     "output_type": "execute_result"
    }
   ],
   "source": [
    "# change city value to numeric\n",
    "df['city_numeric'] = 0\n",
    "df.city.unique()"
   ]
  },
  {
   "cell_type": "code",
   "execution_count": 7,
   "metadata": {
    "collapsed": true
   },
   "outputs": [],
   "source": [
    "df.city_numeric = np.where(df.city == \"King's Landing\", 1, np.where(df.city == \"Astapor\", 2, np.where(df.city == \"Winterfell\", 3, 0)))"
   ]
  },
  {
   "cell_type": "code",
   "execution_count": 8,
   "metadata": {},
   "outputs": [
    {
     "data": {
      "text/plain": [
       "array(['iPhone', 'Android', None], dtype=object)"
      ]
     },
     "execution_count": 8,
     "metadata": {},
     "output_type": "execute_result"
    }
   ],
   "source": [
    "# change phone to numeric\n",
    "df['phone_numeric'] = 0\n",
    "df.phone.unique()"
   ]
  },
  {
   "cell_type": "code",
   "execution_count": 9,
   "metadata": {
    "collapsed": true
   },
   "outputs": [],
   "source": [
    "df.phone_numeric = np.where(df.phone == \"iPhone\", 1, np.where(df.phone == \"Android\", 2, 0))"
   ]
  },
  {
   "cell_type": "code",
   "execution_count": 10,
   "metadata": {
    "collapsed": true
   },
   "outputs": [],
   "source": [
    "# extract day of week from signup date\n",
    "df['signup_datetime'] = pd.to_datetime(df.signup_date)\n",
    "df['signup_weekday'] = df.signup_datetime.dt.dayofweek"
   ]
  },
  {
   "cell_type": "code",
   "execution_count": 12,
   "metadata": {},
   "outputs": [
    {
     "data": {
      "text/plain": [
       "avg_dist                 -0.092780\n",
       "avg_rating_by_driver     -0.026791\n",
       "avg_rating_of_driver     -0.011653\n",
       "avg_surge                -0.003333\n",
       "surge_pct                 0.011797\n",
       "trips_in_first_30_days    0.210463\n",
       "ultimate_black_user       0.205002\n",
       "weekday_pct               0.009693\n",
       "retained                  1.000000\n",
       "city_numeric             -0.166180\n",
       "phone_numeric            -0.217594\n",
       "signup_weekday            0.000042\n",
       "Name: retained, dtype: float64"
      ]
     },
     "execution_count": 12,
     "metadata": {},
     "output_type": "execute_result"
    }
   ],
   "source": [
    "df.corr()['retained']"
   ]
  },
  {
   "cell_type": "code",
   "execution_count": 11,
   "metadata": {
    "collapsed": true
   },
   "outputs": [],
   "source": [
    "# three dataframes will be created from original dataframe:\n",
    "# 1st will convert NaN values (which exist in rating columns) to 0\n",
    "# 2nd will convert NaN values to median value of rating columns\n",
    "# 3rd will remove columns with low correlation\n",
    "\n",
    "df1 = df.copy()\n",
    "df1.avg_rating_by_driver = df1.avg_rating_by_driver.fillna(0)\n",
    "df1.avg_rating_of_driver = df1.avg_rating_of_driver.fillna(0)\n",
    "\n",
    "df2 = df.copy()\n",
    "df2.avg_rating_by_driver = df2.avg_rating_by_driver.fillna(df2.avg_rating_by_driver.median())\n",
    "df2.avg_rating_of_driver = df2.avg_rating_of_driver.fillna(df2.avg_rating_of_driver.median())\n",
    "\n",
    "df3 = df.copy()\n",
    "df3.avg_rating_by_driver = df3.avg_rating_by_driver.fillna(df3.avg_rating_by_driver.median())\n",
    "df3 = df3.drop('avg_rating_of_driver', axis=1)\n",
    "df3 = df3.drop('avg_surge', axis=1)\n",
    "df3 = df3.drop('surge_pct', axis=1)\n",
    "df3 = df3.drop('weekday_pct', axis=1)\n",
    "df3 = df3.drop('signup_weekday', axis=1)"
   ]
  },
  {
   "cell_type": "code",
   "execution_count": 12,
   "metadata": {
    "collapsed": true
   },
   "outputs": [],
   "source": [
    "# create columns list for only the columns that will be used to predict target value\n",
    "columns_all = df.columns.tolist()\n",
    "columns_all = [c for c in columns_all if c not in ['city', 'last_trip_date', 'phone', 'signup_date', 'retained', 'signup_datetime']]\n",
    "columns_small = df3.columns.tolist()\n",
    "columns_small = [c for c in columns_small if c not in ['city', 'last_trip_date', 'phone', 'signup_date', 'retained', 'signup_datetime']]\n",
    "target = 'retained'"
   ]
  },
  {
   "cell_type": "code",
   "execution_count": 13,
   "metadata": {
    "collapsed": true
   },
   "outputs": [],
   "source": [
    "# train, test dfs\n",
    "train, test = train_test_split(df, test_size=0.2)\n",
    "train1, test1 = train_test_split(df1, test_size=0.2)\n",
    "train2, test2 = train_test_split(df2, test_size=0.2)\n",
    "train3, test3 = train_test_split(df3, test_size=0.2)"
   ]
  },
  {
   "cell_type": "code",
   "execution_count": 15,
   "metadata": {},
   "outputs": [
    {
     "data": {
      "text/plain": [
       "0.68892045454545459"
      ]
     },
     "execution_count": 15,
     "metadata": {},
     "output_type": "execute_result"
    }
   ],
   "source": [
    "# experimentation with different classification models, looking for highest f score\n",
    "# xgboost can handle missing data, df will be used\n",
    "clfxgb = xgb.XGBClassifier().fit(train[columns_all], train[target])\n",
    "predictionsxgb = clfxgb.predict(test[columns_all])\n",
    "f1_score(test[target], predictionsxgb)"
   ]
  },
  {
   "cell_type": "code",
   "execution_count": 16,
   "metadata": {},
   "outputs": [
    {
     "data": {
      "text/plain": [
       "0.67542419266557197"
      ]
     },
     "execution_count": 16,
     "metadata": {},
     "output_type": "execute_result"
    }
   ],
   "source": [
    "# MLPClassifier with missing values = 0\n",
    "clfmlp1 = MLPClassifier().fit(train1[columns_all], train1[target])\n",
    "predictionsmlp1 = clfmlp1.predict(test1[columns_all])\n",
    "f1_score(test1[target], predictionsmlp1)"
   ]
  },
  {
   "cell_type": "code",
   "execution_count": 17,
   "metadata": {},
   "outputs": [
    {
     "data": {
      "text/plain": [
       "0.63676718199908156"
      ]
     },
     "execution_count": 17,
     "metadata": {},
     "output_type": "execute_result"
    }
   ],
   "source": [
    "# MLPClassifier with missing values = median\n",
    "clfmlp2 = MLPClassifier().fit(train2[columns_all], train2[target])\n",
    "predictionsmlp2 = clfmlp2.predict(test2[columns_all])\n",
    "f1_score(test2[target], predictionsmlp2)"
   ]
  },
  {
   "cell_type": "code",
   "execution_count": 18,
   "metadata": {},
   "outputs": [
    {
     "data": {
      "text/plain": [
       "0.61538461538461542"
      ]
     },
     "execution_count": 18,
     "metadata": {},
     "output_type": "execute_result"
    }
   ],
   "source": [
    "# KNeighborsClassifier with missing values = 0\n",
    "clfkn1 = KNeighborsClassifier().fit(train1[columns_all], train1[target])\n",
    "predictionskn1 = clfkn1.predict(test1[columns_all])\n",
    "f1_score(test1[target], predictionskn1)"
   ]
  },
  {
   "cell_type": "code",
   "execution_count": 19,
   "metadata": {},
   "outputs": [
    {
     "data": {
      "text/plain": [
       "0.62418072793194812"
      ]
     },
     "execution_count": 19,
     "metadata": {},
     "output_type": "execute_result"
    }
   ],
   "source": [
    "# KNeighborsClassifier with missing values = median\n",
    "clfkn2 = KNeighborsClassifier().fit(train2[columns_all], train2[target])\n",
    "predictionskn2 = clfkn2.predict(test2[columns_all])\n",
    "f1_score(test2[target], predictionskn2)"
   ]
  },
  {
   "cell_type": "code",
   "execution_count": 20,
   "metadata": {},
   "outputs": [
    {
     "data": {
      "text/plain": [
       "0.61226303317535546"
      ]
     },
     "execution_count": 20,
     "metadata": {},
     "output_type": "execute_result"
    }
   ],
   "source": [
    "# SVC with missing values = median\n",
    "# will use small df to speed up calculations\n",
    "clfsv1 = SVC().fit(train3[columns_small], train3[target])\n",
    "predictionssv1 = clfsv1.predict(test3[columns_small])\n",
    "f1_score(test3[target], predictionssv1)"
   ]
  },
  {
   "cell_type": "code",
   "execution_count": 21,
   "metadata": {},
   "outputs": [
    {
     "data": {
      "text/plain": [
       "0.61997526283240567"
      ]
     },
     "execution_count": 21,
     "metadata": {},
     "output_type": "execute_result"
    }
   ],
   "source": [
    "# Decision Tree classifier, which is able to handle missing values\n",
    "clfdt = DecisionTreeClassifier(max_depth=5).fit(train1[columns_all], train1[target])\n",
    "predictionsdt = clfdt.predict(test1[columns_all])\n",
    "f1_score(test1[target], predictionsdt)"
   ]
  },
  {
   "cell_type": "code",
   "execution_count": 22,
   "metadata": {},
   "outputs": [
    {
     "data": {
      "text/plain": [
       "0.63877430760164999"
      ]
     },
     "execution_count": 22,
     "metadata": {},
     "output_type": "execute_result"
    }
   ],
   "source": [
    "# Random Forest classifier, which is able to handle missing values\n",
    "clfrf = RandomForestClassifier().fit(train1[columns_all], train1[target])\n",
    "predictionsrf = clfrf.predict(test1[columns_all])\n",
    "f1_score(test1[target], predictionsrf)"
   ]
  },
  {
   "cell_type": "code",
   "execution_count": 23,
   "metadata": {},
   "outputs": [
    {
     "data": {
      "text/plain": [
       "0.6861717612809316"
      ]
     },
     "execution_count": 23,
     "metadata": {},
     "output_type": "execute_result"
    }
   ],
   "source": [
    "# Ada Boost classifier, which is able to handle missing values\n",
    "clfab = AdaBoostClassifier().fit(train1[columns_all], train1[target])\n",
    "predictionsab = clfab.predict(test1[columns_all])\n",
    "f1_score(test1[target], predictionsab)"
   ]
  },
  {
   "cell_type": "code",
   "execution_count": 24,
   "metadata": {},
   "outputs": [
    {
     "data": {
      "text/plain": [
       "0.62328203923411263"
      ]
     },
     "execution_count": 24,
     "metadata": {},
     "output_type": "execute_result"
    }
   ],
   "source": [
    "# Gaussian Naive Bayes classifier, which is able to handle missing values\n",
    "clfgnb = GaussianNB().fit(train1[columns_all], train1[target])\n",
    "predictionsgnb = clfgnb.predict(test1[columns_all])\n",
    "f1_score(test1[target], predictionsgnb)"
   ]
  },
  {
   "cell_type": "code",
   "execution_count": 25,
   "metadata": {},
   "outputs": [
    {
     "data": {
      "text/plain": [
       "0.62550771730300558"
      ]
     },
     "execution_count": 25,
     "metadata": {},
     "output_type": "execute_result"
    }
   ],
   "source": [
    "# Quadratic Discriminant Analysis, which is able to handle missing values\n",
    "clfqda = QuadraticDiscriminantAnalysis().fit(train1[columns_all], train1[target])\n",
    "predictionsqda = clfqda.predict(test1[columns_all])\n",
    "f1_score(test1[target], predictionsqda)"
   ]
  },
  {
   "cell_type": "code",
   "execution_count": 26,
   "metadata": {},
   "outputs": [
    {
     "data": {
      "image/png": "[encoded data removed]",
      "text/plain": [
       "<matplotlib.figure.Figure at 0xc0c8ef0>"
      ]
     },
     "metadata": {},
     "output_type": "display_data"
    }
   ],
   "source": [
    "# overall highest f score belonged to xgboost\n",
    "plot_importance(clfxgb)\n",
    "plt.show()"
   ]
  },
  {
   "cell_type": "code",
   "execution_count": 66,
   "metadata": {},
   "outputs": [
    {
     "data": {
      "text/plain": [
       "city\n",
       "Astapor           0.255715\n",
       "King's Landing    0.628134\n",
       "Winterfell        0.351945\n",
       "Name: retained, dtype: float64"
      ]
     },
     "execution_count": 66,
     "metadata": {},
     "output_type": "execute_result"
    }
   ],
   "source": [
    "# as city numeric had the most importance, might be worthwhile to view retention rate by city:\n",
    "df.groupby('city').mean()['retained']"
   ]
  },
  {
   "cell_type": "code",
   "execution_count": null,
   "metadata": {
    "collapsed": true
   },
   "outputs": [],
   "source": [
    "# as an answer to part 3 question 3, knowing how important the city is, along with the trips taken in the first 30 days...\n",
    "# Ultimate could examine what works in King's Landing and try to increase retention in other cities.\n",
    "# trips_in_first_30_days has a positive correlation, so when someone signs up, it'd be good for retention to keep an eye...\n",
    "# on their transaction history and how much they're using the service."
   ]
  }
 ],
 "metadata": {
  "kernelspec": {
   "display_name": "Python 3",
   "language": "python",
   "name": "python3"
  },
  "language_info": {
   "codemirror_mode": {
    "name": "ipython",
    "version": 3
   },
   "file_extension": ".py",
   "mimetype": "text/x-python",
   "name": "python",
   "nbconvert_exporter": "python",
   "pygments_lexer": "ipython3",
   "version": "3.6.0"
  }
 },
 "nbformat": 4,
 "nbformat_minor": 2
}
